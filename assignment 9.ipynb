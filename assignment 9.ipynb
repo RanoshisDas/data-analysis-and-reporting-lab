{
 "cells": [
  {
   "cell_type": "markdown",
   "metadata": {},
   "source": [
    "1. write a python program to demostrate various type of cleaning operation using data exploration & imputation."
   ]
  },
  {
   "cell_type": "code",
   "execution_count": 30,
   "metadata": {},
   "outputs": [
    {
     "name": "stdout",
     "output_type": "stream",
     "text": [
      "Original Dataset:\n",
      "      Name   Age         City\n",
      "0     John  25.0     New York\n",
      "1     Mary  31.0  Los Angeles\n",
      "2    David   NaN      Chicago\n",
      "3    Emily  42.0          NaN\n",
      "4  Michael  28.0      Houston\n"
     ]
    }
   ],
   "source": [
    "import pandas as pd\n",
    "import numpy as np\n",
    "import matplotlib.pyplot as plt\n",
    "# Create a sample dataset with missing values\n",
    "data = {\n",
    " 'Name': ['John', 'Mary', 'David', 'Emily', 'Michael'],\n",
    " 'Age': [25, 31, np.nan, 42, 28],\n",
    " 'City': ['New York', 'Los Angeles', 'Chicago', np.nan, 'Houston']\n",
    "}\n",
    "df = pd.DataFrame(data)\n",
    "print(\"Original Dataset:\")\n",
    "print(df)\n"
   ]
  },
  {
   "cell_type": "code",
   "execution_count": 31,
   "metadata": {},
   "outputs": [
    {
     "name": "stdout",
     "output_type": "stream",
     "text": [
      "\n",
      "Missing Values:\n",
      "Name    0\n",
      "Age     1\n",
      "City    1\n",
      "dtype: int64\n",
      "\n",
      "Data Types:\n",
      "Name     object\n",
      "Age     float64\n",
      "City     object\n",
      "dtype: object\n",
      "\n",
      "Summary Statistics:\n",
      "             Age\n",
      "count   4.000000\n",
      "mean   31.500000\n",
      "std     7.416198\n",
      "min    25.000000\n",
      "25%    27.250000\n",
      "50%    29.500000\n",
      "75%    33.750000\n",
      "max    42.000000\n"
     ]
    }
   ],
   "source": [
    "print(\"\\nMissing Values:\")\n",
    "print(df.isnull().sum())\n",
    "print(\"\\nData Types:\")\n",
    "print(df.dtypes)\n",
    "print(\"\\nSummary Statistics:\")\n",
    "print(df.describe())"
   ]
  },
  {
   "cell_type": "code",
   "execution_count": 45,
   "metadata": {},
   "outputs": [
    {
     "name": "stdout",
     "output_type": "stream",
     "text": [
      "\n",
      "Imputed Dataset (Interpolation):\n",
      "      Name   Age         City\n",
      "0     John  25.0     New York\n",
      "1     Mary  31.0  Los Angeles\n",
      "2    David  36.5      Chicago\n",
      "3    Emily  42.0      Chicago\n",
      "4  Michael  28.0      Houston\n"
     ]
    },
    {
     "name": "stderr",
     "output_type": "stream",
     "text": [
      "/tmp/ipykernel_670/3147464663.py:2: FutureWarning: DataFrame.interpolate with object dtype is deprecated and will raise in a future version. Call obj.infer_objects(copy=False) before interpolating instead.\n",
      "  af=df.interpolate(method='linear')\n"
     ]
    }
   ],
   "source": [
    "# Impute missing values in 'Age' column with interpolation\n",
    "af=df.interpolate(method='linear')\n",
    "print(\"\\nImputed Dataset (Interpolation):\")\n",
    "print(af)"
   ]
  }
 ],
 "metadata": {
  "kernelspec": {
   "display_name": "Python 3 (ipykernel)",
   "language": "python",
   "name": "python3"
  },
  "language_info": {
   "codemirror_mode": {
    "name": "ipython",
    "version": 3
   },
   "file_extension": ".py",
   "mimetype": "text/x-python",
   "name": "python",
   "nbconvert_exporter": "python",
   "pygments_lexer": "ipython3",
   "version": "3.12.1"
  }
 },
 "nbformat": 4,
 "nbformat_minor": 2
}
