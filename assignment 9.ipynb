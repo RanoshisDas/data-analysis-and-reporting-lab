{
 "cells": [
  {
   "cell_type": "markdown",
   "metadata": {},
   "source": [
    "1. write a python program to demostrate various type of cleaning operation using data exploration & imputation."
   ]
  },
  {
   "cell_type": "code",
   "execution_count": 6,
   "metadata": {},
   "outputs": [
    {
     "name": "stdout",
     "output_type": "stream",
     "text": [
      "Original DataFrame:\n",
      "     A      B    C    D\n",
      "0  1.0    one  NaN  1.0\n",
      "1  2.0    two  2.0  2.0\n",
      "2  NaN  three  3.0  2.0\n",
      "3  4.0    NaN  4.0  NaN\n",
      "4  5.0   five  5.0  5.0\n",
      "\n",
      "DataFrame after dropping rows with NaN values:\n",
      "     A     B    C    D\n",
      "1  2.0   two  2.0  2.0\n",
      "4  5.0  five  5.0  5.0\n",
      "\n",
      "DataFrame after dropping rows where all elements are NaN:\n",
      "     A      B    C    D\n",
      "0  1.0    one  NaN  1.0\n",
      "1  2.0    two  2.0  2.0\n",
      "2  NaN  three  3.0  2.0\n",
      "3  4.0    NaN  4.0  NaN\n",
      "4  5.0   five  5.0  5.0\n",
      "\n",
      "DataFrame after filling NaN values with 0:\n",
      "     A      B    C    D\n",
      "0  1.0    one  0.0  1.0\n",
      "1  2.0    two  2.0  2.0\n",
      "2  0.0  three  3.0  2.0\n",
      "3  4.0      0  4.0  0.0\n",
      "4  5.0   five  5.0  5.0\n",
      "\n",
      "DataFrame after filling NaN values with column means:\n",
      "     A      B    C    D\n",
      "0  1.0    one  3.5  1.0\n",
      "1  2.0    two  2.0  2.0\n",
      "2  3.0  three  3.0  2.0\n",
      "3  4.0    NaN  4.0  2.5\n",
      "4  5.0   five  5.0  5.0\n"
     ]
    },
    {
     "name": "stderr",
     "output_type": "stream",
     "text": [
      "/tmp/ipykernel_1158/3514203010.py:38: FutureWarning: A value is trying to be set on a copy of a DataFrame or Series through chained assignment using an inplace method.\n",
      "The behavior will change in pandas 3.0. This inplace method will never work because the intermediate object on which we are setting values always behaves as a copy.\n",
      "\n",
      "For example, when doing 'df[col].method(value, inplace=True)', try using 'df.method({col: value}, inplace=True)' or df[col] = df[col].method(value) instead, to perform the operation inplace on the original object.\n",
      "\n",
      "\n",
      "  df_fillna_mean[column].fillna(df_fillna_mean[column].mean(), inplace=True)\n"
     ]
    }
   ],
   "source": [
    "import pandas as pd\n",
    "import numpy as np\n",
    "\n",
    "# Create a sample DataFrame\n",
    "data = {\n",
    "    'A': [1, 2, np.nan, 4, 5],\n",
    "    'B': ['one', 'two', 'three', np.nan, 'five'],\n",
    "    'C': [np.nan, 2, 3, 4, 5],\n",
    "    'D': [1, 2, 2, np.nan, 5]\n",
    "}\n",
    "\n",
    "df = pd.DataFrame(data)\n",
    "\n",
    "print(\"Original DataFrame:\")\n",
    "print(df)\n",
    "\n",
    "# 1. Handling missing values\n",
    "\n",
    "# Drop rows with any NaN values\n",
    "df_dropna = df.dropna()\n",
    "print(\"\\nDataFrame after dropping rows with NaN values:\")\n",
    "print(df_dropna)\n",
    "\n",
    "# Drop rows where all elements are NaN\n",
    "df_dropna_all = df.dropna(how='all')\n",
    "print(\"\\nDataFrame after dropping rows where all elements are NaN:\")\n",
    "print(df_dropna_all)\n",
    "\n",
    "# Fill NaN values with a specific value\n",
    "df_fillna = df.fillna(0)\n",
    "print(\"\\nDataFrame after filling NaN values with 0:\")\n",
    "print(df_fillna)\n",
    "\n",
    "# Fill NaN values with the mean of the column\n",
    "df_fillna_mean = df.copy()\n",
    "for column in df_fillna_mean:\n",
    "    if pd.api.types.is_numeric_dtype(df_fillna_mean[column]):\n",
    "        df_fillna_mean[column].fillna(df_fillna_mean[column].mean(), inplace=True)\n",
    "print(\"\\nDataFrame after filling NaN values with column means:\")\n",
    "print(df_fillna_mean)\n",
    "\n"
   ]
  },
  {
   "cell_type": "code",
   "execution_count": 7,
   "metadata": {},
   "outputs": [
    {
     "name": "stdout",
     "output_type": "stream",
     "text": [
      "\n",
      "Descriptive statistics of the DataFrame:\n",
      "               A    B         C         D\n",
      "count   4.000000    4  4.000000  4.000000\n",
      "unique       NaN    4       NaN       NaN\n",
      "top          NaN  one       NaN       NaN\n",
      "freq         NaN    1       NaN       NaN\n",
      "mean    3.000000  NaN  3.500000  2.500000\n",
      "std     1.825742  NaN  1.290994  1.732051\n",
      "min     1.000000  NaN  2.000000  1.000000\n",
      "25%     1.750000  NaN  2.750000  1.750000\n",
      "50%     3.000000  NaN  3.500000  2.000000\n",
      "75%     4.250000  NaN  4.250000  2.750000\n",
      "max     5.000000  NaN  5.000000  5.000000\n",
      "\n",
      "DataFrame after removing duplicate rows:\n",
      "     A      B    C    D\n",
      "0  1.0    one  NaN  1.0\n",
      "1  2.0    two  2.0  2.0\n",
      "2  NaN  three  3.0  2.0\n",
      "3  4.0    NaN  4.0  NaN\n",
      "4  5.0   five  5.0  5.0\n"
     ]
    }
   ],
   "source": [
    "# 2. Data Exploration\n",
    "\n",
    "# Describe the DataFrame\n",
    "print(\"\\nDescriptive statistics of the DataFrame:\")\n",
    "print(df.describe(include='all'))\n",
    "\n",
    "# Detect and remove duplicate rows\n",
    "df_no_duplicates = df.drop_duplicates()\n",
    "print(\"\\nDataFrame after removing duplicate rows:\")\n",
    "print(df_no_duplicates)\n",
    "\n"
   ]
  },
  {
   "cell_type": "code",
   "execution_count": 8,
   "metadata": {},
   "outputs": [
    {
     "name": "stdout",
     "output_type": "stream",
     "text": [
      "\n",
      "DataFrame after forward fill imputation:\n",
      "     A      B    C    D\n",
      "0  1.0    one  NaN  1.0\n",
      "1  2.0    two  2.0  2.0\n",
      "2  2.0  three  3.0  2.0\n",
      "3  4.0  three  4.0  2.0\n",
      "4  5.0   five  5.0  5.0\n",
      "\n",
      "DataFrame after backward fill imputation:\n",
      "     A      B    C    D\n",
      "0  1.0    one  2.0  1.0\n",
      "1  2.0    two  2.0  2.0\n",
      "2  4.0  three  3.0  2.0\n",
      "3  4.0   five  4.0  5.0\n",
      "4  5.0   five  5.0  5.0\n"
     ]
    }
   ],
   "source": [
    "# 3. Data Imputation\n",
    "\n",
    "# Impute missing values using forward fill\n",
    "df_ffill = df.ffill()\n",
    "print(\"\\nDataFrame after forward fill imputation:\")\n",
    "print(df_ffill)\n",
    "\n",
    "# Impute missing values using backward fill\n",
    "df_bfill = df.bfill()\n",
    "print(\"\\nDataFrame after backward fill imputation:\")\n",
    "print(df_bfill)\n"
   ]
  }
 ],
 "metadata": {
  "kernelspec": {
   "display_name": "Python 3 (ipykernel)",
   "language": "python",
   "name": "python3"
  },
  "language_info": {
   "codemirror_mode": {
    "name": "ipython",
    "version": 3
   },
   "file_extension": ".py",
   "mimetype": "text/x-python",
   "name": "python",
   "nbconvert_exporter": "python",
   "pygments_lexer": "ipython3",
   "version": "3.12.1"
  }
 },
 "nbformat": 4,
 "nbformat_minor": 2
}
